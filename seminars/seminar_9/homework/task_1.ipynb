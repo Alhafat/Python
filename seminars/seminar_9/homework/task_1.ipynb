{
 "cells": [
  {
   "cell_type": "code",
   "execution_count": 18,
   "outputs": [],
   "source": [
    "\"\"\"\n",
    "Задача 40: Работать с файлом california_housing_train.csv, который находится в папке sample_data.\n",
    "Определить среднюю стоимость дома, где кол-во людей от 0 до 500 (population).\n",
    "\"\"\"\n",
    "\n",
    "import pandas as pd\n",
    "df=pd.read_csv('california_housing_train.csv')"
   ],
   "metadata": {
    "collapsed": false,
    "ExecuteTime": {
     "start_time": "2023-04-11T21:21:55.851668Z",
     "end_time": "2023-04-11T21:21:55.869003Z"
    }
   }
  },
  {
   "cell_type": "code",
   "execution_count": 13,
   "outputs": [
    {
     "data": {
      "text/plain": "169500.0"
     },
     "execution_count": 13,
     "metadata": {},
     "output_type": "execute_result"
    }
   ],
   "source": [
    "df[(df['population'] < 500)&(df['population'] > 0)]['median_house_value'].median()"
   ],
   "metadata": {
    "collapsed": false,
    "ExecuteTime": {
     "start_time": "2023-04-11T20:25:39.585455Z",
     "end_time": "2023-04-11T20:25:39.589610Z"
    }
   }
  },
  {
   "cell_type": "code",
   "execution_count": 17,
   "outputs": [
    {
     "data": {
      "text/plain": "206683.836"
     },
     "execution_count": 17,
     "metadata": {},
     "output_type": "execute_result"
    }
   ],
   "source": [
    "round(df[(df['population'] < 500)&(df['population'] > 0)]['median_house_value'].mean(),3)"
   ],
   "metadata": {
    "collapsed": false,
    "ExecuteTime": {
     "start_time": "2023-04-11T21:09:33.676959Z",
     "end_time": "2023-04-11T21:09:33.684983Z"
    }
   }
  }
 ],
 "metadata": {
  "kernelspec": {
   "display_name": "Python 3",
   "language": "python",
   "name": "python3"
  },
  "language_info": {
   "codemirror_mode": {
    "name": "ipython",
    "version": 2
   },
   "file_extension": ".py",
   "mimetype": "text/x-python",
   "name": "python",
   "nbconvert_exporter": "python",
   "pygments_lexer": "ipython2",
   "version": "2.7.6"
  }
 },
 "nbformat": 4,
 "nbformat_minor": 0
}
